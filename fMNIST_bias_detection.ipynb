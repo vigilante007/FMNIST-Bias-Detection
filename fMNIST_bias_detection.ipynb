{
  "nbformat": 4,
  "nbformat_minor": 0,
  "metadata": {
    "colab": {
      "name": "DAI_Assignment_1_Q2.ipynb",
      "provenance": [],
      "collapsed_sections": []
    },
    "kernelspec": {
      "name": "python3",
      "display_name": "Python 3"
    }
  },
  "cells": [
    {
      "cell_type": "code",
      "metadata": {
        "id": "ADJogG5Xq9oA",
        "colab": {
          "base_uri": "https://localhost:8080/"
        },
        "outputId": "51d1126b-a344-4990-f98a-9909fd53501a"
      },
      "source": [
        "pip install python-mnist\n"
      ],
      "execution_count": null,
      "outputs": [
        {
          "output_type": "stream",
          "text": [
            "Requirement already satisfied: python-mnist in /usr/local/lib/python3.6/dist-packages (0.7)\n"
          ],
          "name": "stdout"
        }
      ]
    },
    {
      "cell_type": "code",
      "metadata": {
        "id": "CWV1pIAaxOxP",
        "colab": {
          "base_uri": "https://localhost:8080/"
        },
        "outputId": "acc99385-753b-4afd-888e-dec671e67d32"
      },
      "source": [
        "!unzip /content/drive/MyDrive/f_mnist_dataset.zip"
      ],
      "execution_count": null,
      "outputs": [
        {
          "output_type": "stream",
          "text": [
            "Archive:  /content/drive/MyDrive/f_mnist_dataset.zip\n",
            "replace dataset/t10k-images-idx3-ubyte? [y]es, [n]o, [A]ll, [N]one, [r]ename: "
          ],
          "name": "stdout"
        }
      ]
    },
    {
      "cell_type": "code",
      "metadata": {
        "id": "d3lwaRPGq2fI"
      },
      "source": [
        "import sys\n",
        "import time\n",
        "import numpy as np\n",
        "import pandas as pd\n",
        "import pickle\n",
        "from sklearn import model_selection, svm, preprocessing\n",
        "from sklearn.metrics import accuracy_score,confusion_matrix\n",
        "from sklearn.metrics import auc\n",
        "from mnist import MNIST\n",
        "import tensorflow as tf\n",
        "from tensorflow import keras\n",
        "import matplotlib.pyplot as plt\n",
        "import seaborn as sns\n",
        "from matplotlib import style\n",
        "import collections"
      ],
      "execution_count": null,
      "outputs": []
    },
    {
      "cell_type": "code",
      "metadata": {
        "id": "vB0467UVxtaX",
        "colab": {
          "base_uri": "https://localhost:8080/"
        },
        "outputId": "3ace4780-01ab-4739-8cc4-e48207fd5340"
      },
      "source": [
        "# Load MNIST Data\n",
        "print('\\nLoading MNIST Data...')\n",
        "data = MNIST('./dataset/')"
      ],
      "execution_count": null,
      "outputs": [
        {
          "output_type": "stream",
          "text": [
            "\n",
            "Loading MNIST Data...\n"
          ],
          "name": "stdout"
        }
      ]
    },
    {
      "cell_type": "code",
      "metadata": {
        "id": "d7J_SHCZx1EK",
        "colab": {
          "base_uri": "https://localhost:8080/"
        },
        "outputId": "9cd85d90-6b3a-4483-9dd6-a77f371d53ef"
      },
      "source": [
        "print('\\nLoading Training Data...')\n",
        "img_train, labels_train = data.load_training()\n",
        "\n",
        "print('\\nLoading Testing Data...')\n",
        "img_test, labels_test = data.load_testing()\n"
      ],
      "execution_count": null,
      "outputs": [
        {
          "output_type": "stream",
          "text": [
            "\n",
            "Loading Training Data...\n",
            "\n",
            "Loading Testing Data...\n"
          ],
          "name": "stdout"
        }
      ]
    },
    {
      "cell_type": "code",
      "metadata": {
        "id": "UaFjWPMNv5gY"
      },
      "source": [
        "f_mnist_org_train_df = pd.DataFrame({\"labels\":labels_train,\"images\":img_train})\n",
        "f_mnist_org_test_df = pd.DataFrame({\"labels\":labels_test,\"images\":img_test})"
      ],
      "execution_count": null,
      "outputs": []
    },
    {
      "cell_type": "code",
      "metadata": {
        "id": "viAOsaS850Wj"
      },
      "source": [
        "f_mnist_test_df = f_mnist_org_test_df[(f_mnist_org_test_df[\"labels\"] == 2) ]\n",
        "f_mnist_test_df = f_mnist_test_df.append(f_mnist_org_test_df[f_mnist_org_test_df[\"labels\"] == 4])\n",
        "\n",
        "test_img = np.array(list(f_mnist_test_df[\"images\"].values)) / 255\n",
        "test_labels = np.array(list(f_mnist_test_df[\"labels\"].values))\n",
        "\n",
        "test_labels = np.where(test_labels == 2, 0, 1)"
      ],
      "execution_count": null,
      "outputs": []
    },
    {
      "cell_type": "code",
      "metadata": {
        "id": "xHQAjp9qxGhg"
      },
      "source": [
        "def confusionMatrix(act, scr, thres, p_l=1):\n",
        "    pred_test_labels = np.where(scr > thres,1,0)\n",
        "    con_mat = np.zeros((2,2))\n",
        "    for i in range(len(act)):\n",
        "      con_mat[act[i]][pred_test_labels[i]] += 1\n",
        "\n",
        "    conf_mat = ConfusionMatrix(con_mat[1][1], con_mat[0][1], con_mat[0][0], con_mat[1][0])\n",
        "    return conf_mat"
      ],
      "execution_count": null,
      "outputs": []
    },
    {
      "cell_type": "code",
      "metadata": {
        "id": "UvChB48AHt-s"
      },
      "source": [
        "def tpr_fn(conf_mtrx):\n",
        "  if (conf_mtrx.tp + conf_mtrx.fn ) > 0 :\n",
        "    return (conf_mtrx.tp ) / (conf_mtrx.tp + conf_mtrx.fn )\n",
        "  else :\n",
        "    return 0\n",
        "\n",
        "def tnr_fn(conf_mtrx):\n",
        "  if (conf_mtrx.tn + conf_mtrx.fp ) > 0:\n",
        "    return (conf_mtrx.tn ) / (conf_mtrx.tn + conf_mtrx.fp )\n",
        "  else:\n",
        "    return 0\n",
        "\n",
        "def fpr_fn(conf_mtrx):\n",
        "  if (conf_mtrx.fp + conf_mtrx.tn ) > 0 :\n",
        "    return (conf_mtrx.fp ) / (conf_mtrx.fp + conf_mtrx.tn )\n",
        "  else :\n",
        "    return 0\n",
        "\n",
        "def fnr_fn(conf_mtrx):\n",
        "  if (conf_mtrx.fn + conf_mtrx.tn ) > 0 :\n",
        "    return (conf_mtrx.fn ) / (conf_mtrx.fn + conf_mtrx.tn )\n",
        "  else :\n",
        "    return 0\n",
        "\n",
        "def ACC_fn(conf_mtrx):\n",
        "    return (conf_mtrx.tp + conf_mtrx.tn) / (conf_mtrx.fp + conf_mtrx.tn + conf_mtrx.tp + conf_mtrx.fn)\n",
        "\n",
        "def precision_fn(conf_mtrx):\n",
        "  if (conf_mtrx.fp + conf_mtrx.tp) > 0:\n",
        "    return (conf_mtrx.tp ) / (conf_mtrx.fp + conf_mtrx.tp)\n",
        "  else :\n",
        "    return 0\n",
        "\n",
        "def recall_fn(conf_mtrx):\n",
        "  if (conf_mtrx.fn + conf_mtrx.tp) > 0:\n",
        "    return (conf_mtrx.tp ) / (conf_mtrx.fn + conf_mtrx.tp)\n",
        "  else:\n",
        "    return 0\n",
        "\n",
        "def EER_fn(mean_tpr, mean_fpr):\n",
        "  mean_fnr = 1- mean_tpr\n",
        "  diff = np.abs(mean_fpr - mean_fnr)\n",
        "  index = np.argmin(diff)\n",
        "  eer = np.mean((mean_fpr[index], mean_fnr[index]))\n",
        "  return eer, index"
      ],
      "execution_count": null,
      "outputs": []
    },
    {
      "cell_type": "code",
      "metadata": {
        "id": "2RhxGifIICrK"
      },
      "source": [
        "evl_auc_ls = []\n",
        "test_auc_ls = []\n",
        "tpr_ls_itr , tnr_ls_itr, fpr_ls_itr, fnr_ls_itr, acc_ls_itr, prec_ls_itr, rec_ls_itr = ([] for i in range(7))\n",
        "thresholds = np.arange(0.1,1,.1)\n",
        "con_mat_ls = []\n",
        "ConfusionMatrix = collections.namedtuple('conf', ['tp','fp','tn','fn']) "
      ],
      "execution_count": null,
      "outputs": []
    },
    {
      "cell_type": "code",
      "metadata": {
        "id": "sRtxGBbNCLvF",
        "colab": {
          "base_uri": "https://localhost:8080/"
        },
        "outputId": "2fb590b4-cd9a-4b27-cb57-9c98a4d08ce5"
      },
      "source": [
        "for i in range(0,1500,500):\n",
        "  f_mnist_train_df = f_mnist_org_train_df[(f_mnist_org_train_df[\"labels\"] == 2) ]\n",
        "  f_mnist_train_df = f_mnist_train_df.append(f_mnist_org_train_df[f_mnist_org_train_df[\"labels\"] == 4][i:i+500])\n",
        "\n",
        "\n",
        "  train_img = list(f_mnist_train_df[\"images\"].values)\n",
        "  train_labels = list(f_mnist_train_df[\"labels\"].values)\n",
        "\n",
        "  train_img = np.array(train_img) / 255.0\n",
        "  train_labels = np.array(train_labels)\n",
        "\n",
        "  train_labels  = np.where(train_labels == 2, 0, 1)\n",
        "\n",
        "\n",
        "  #Features\n",
        "  X = train_img\n",
        "  #Labels\n",
        "  y = train_labels\n",
        "\n",
        "  # Prepare Classifier Training and Testing Data\n",
        "  print('\\nPreparing Classifier Training and Validation Data...')\n",
        "  X_train, X_test, y_train, y_test = model_selection.train_test_split(X,y,test_size=0.1)\n",
        "\n",
        "\n",
        "  print('\\nSVM Classifier with gamma = 0.1; Kernel = linear')\n",
        "  clf = svm.SVC(C =1, gamma=.1, kernel='linear', probability=True)\n",
        "  clf.fit(X_train,y_train)\n",
        "\n",
        "  print('\\nMaking Predictions on Validation Data...')\n",
        "  y_pred = clf.predict(X_test)\n",
        "\n",
        "\n",
        "  print('\\nCalculating Accuracy of Predictions...')\n",
        "  evl_acc = accuracy_score(y_test, y_pred)\n",
        "  evl_auc_ls.append(evl_acc)\n",
        "\n",
        "\n",
        "\n",
        "  print('\\nMaking Predictions on Test Input Images...')\n",
        "  test_labels_pred = clf.predict(test_img)\n",
        "  test_labels_pred_prob = clf.predict_proba(test_img)\n",
        "\n",
        "\n",
        "  print('\\nCalculating Accuracy of Trained Classifier on Test Data... ')\n",
        "  tst_acc = accuracy_score(test_labels,test_labels_pred)\n",
        "  test_auc_ls.append(tst_acc)\n",
        "\n",
        "\n",
        "  #score = model_selection.cross_val_score(clf,test_img,test_labels,cv= 10)\n",
        "  con_mat_ls.append(confusion_matrix(test_labels,test_labels_pred))\n",
        "\n",
        "\n",
        "  test_labels_pred_prob = test_labels_pred_prob[:, 1]\n",
        "\n",
        "  tpr_ls , tnr_ls, fpr_ls, fnr_ls, acc_ls, prec_ls, rec_ls = ([] for i in range(7))\n",
        "\n",
        "  \n",
        "  for thres in thresholds:\n",
        "    con_mat = confusionMatrix(test_labels,test_labels_pred_prob,thres = thres)\n",
        "    print(con_mat)\n",
        "    tpr_ls.append(tpr_fn(con_mat))\n",
        "    tnr_ls.append(tnr_fn(con_mat))\n",
        "    fpr_ls.append(fpr_fn(con_mat))\n",
        "    fnr_ls.append(fnr_fn(con_mat))\n",
        "    acc_ls.append(ACC_fn(con_mat))\n",
        "    prec_ls.append(precision_fn(con_mat))\n",
        "    rec_ls.append(recall_fn(con_mat))\n",
        "  \n",
        "\n",
        "\n",
        "  tpr_ls_itr.append(tpr_ls)\n",
        "  tnr_ls_itr.append(tnr_ls)\n",
        "  fpr_ls_itr.append(fpr_ls)\n",
        "  fnr_ls_itr.append(fnr_ls)\n",
        "  acc_ls_itr.append(acc_ls)\n",
        "  prec_ls_itr.append(prec_ls)\n",
        "  rec_ls_itr.append(rec_ls)\n"
      ],
      "execution_count": null,
      "outputs": [
        {
          "output_type": "stream",
          "text": [
            "\n",
            "Preparing Classifier Training and Validation Data...\n",
            "\n",
            "SVM Classifier with gamma = 0.1; Kernel = linear\n",
            "\n",
            "Making Predictions on Validation Data...\n",
            "\n",
            "Calculating Accuracy of Predictions...\n",
            "\n",
            "Making Predictions on Test Input Images...\n",
            "\n",
            "Calculating Accuracy of Trained Classifier on Test Data... \n",
            "conf(tp=807.0, fp=127.0, tn=873.0, fn=193.0)\n",
            "conf(tp=653.0, fp=49.0, tn=951.0, fn=347.0)\n",
            "conf(tp=538.0, fp=23.0, tn=977.0, fn=462.0)\n",
            "conf(tp=435.0, fp=15.0, tn=985.0, fn=565.0)\n",
            "conf(tp=342.0, fp=9.0, tn=991.0, fn=658.0)\n",
            "conf(tp=261.0, fp=4.0, tn=996.0, fn=739.0)\n",
            "conf(tp=191.0, fp=3.0, tn=997.0, fn=809.0)\n",
            "conf(tp=109.0, fp=3.0, tn=997.0, fn=891.0)\n",
            "conf(tp=53.0, fp=0.0, tn=1000.0, fn=947.0)\n",
            "\n",
            "Preparing Classifier Training and Validation Data...\n",
            "\n",
            "SVM Classifier with gamma = 0.1; Kernel = linear\n",
            "\n",
            "Making Predictions on Validation Data...\n",
            "\n",
            "Calculating Accuracy of Predictions...\n",
            "\n",
            "Making Predictions on Test Input Images...\n",
            "\n",
            "Calculating Accuracy of Trained Classifier on Test Data... \n",
            "conf(tp=808.0, fp=129.0, tn=871.0, fn=192.0)\n",
            "conf(tp=644.0, fp=48.0, tn=952.0, fn=356.0)\n",
            "conf(tp=509.0, fp=22.0, tn=978.0, fn=491.0)\n",
            "conf(tp=402.0, fp=11.0, tn=989.0, fn=598.0)\n",
            "conf(tp=286.0, fp=6.0, tn=994.0, fn=714.0)\n",
            "conf(tp=198.0, fp=5.0, tn=995.0, fn=802.0)\n",
            "conf(tp=138.0, fp=3.0, tn=997.0, fn=862.0)\n",
            "conf(tp=78.0, fp=1.0, tn=999.0, fn=922.0)\n",
            "conf(tp=39.0, fp=0.0, tn=1000.0, fn=961.0)\n",
            "\n",
            "Preparing Classifier Training and Validation Data...\n",
            "\n",
            "SVM Classifier with gamma = 0.1; Kernel = linear\n",
            "\n",
            "Making Predictions on Validation Data...\n",
            "\n",
            "Calculating Accuracy of Predictions...\n",
            "\n",
            "Making Predictions on Test Input Images...\n",
            "\n",
            "Calculating Accuracy of Trained Classifier on Test Data... \n",
            "conf(tp=813.0, fp=155.0, tn=845.0, fn=187.0)\n",
            "conf(tp=615.0, fp=72.0, tn=928.0, fn=385.0)\n",
            "conf(tp=475.0, fp=44.0, tn=956.0, fn=525.0)\n",
            "conf(tp=367.0, fp=20.0, tn=980.0, fn=633.0)\n",
            "conf(tp=262.0, fp=12.0, tn=988.0, fn=738.0)\n",
            "conf(tp=192.0, fp=9.0, tn=991.0, fn=808.0)\n",
            "conf(tp=127.0, fp=3.0, tn=997.0, fn=873.0)\n",
            "conf(tp=76.0, fp=3.0, tn=997.0, fn=924.0)\n",
            "conf(tp=30.0, fp=1.0, tn=999.0, fn=970.0)\n"
          ],
          "name": "stdout"
        }
      ]
    },
    {
      "cell_type": "code",
      "metadata": {
        "colab": {
          "base_uri": "https://localhost:8080/",
          "height": 225
        },
        "id": "Pm97wXZECmEt",
        "outputId": "a507bf34-cb43-408d-eefc-e5bb25ff4dca"
      },
      "source": [
        "class_names = ['Pullover','Coat']\n",
        "plt.figure(figsize=(7,3))\n",
        "plt.subplot(1,3,1)\n",
        "con_mat_df = pd.DataFrame(con_mat_ls[0], index = [i for i in class_names],columns = [i for i in class_names])\n",
        "sns.heatmap(con_mat_df, annot=True, fmt='g',cmap='Blues')\n",
        "plt.subplot(1,3,2)\n",
        "con_mat_df = pd.DataFrame(con_mat_ls[1], index = [i for i in class_names],columns = [i for i in class_names])\n",
        "sns.heatmap(con_mat_df, annot=True, fmt='g',cmap='Blues')\n",
        "plt.subplot(1,3,3)\n",
        "con_mat_df = pd.DataFrame(con_mat_ls[2], index = [i for i in class_names],columns = [i for i in class_names])\n",
        "sns.heatmap(con_mat_df, annot=True, fmt='g',cmap='Blues')\n",
        "plt.tight_layout()"
      ],
      "execution_count": null,
      "outputs": [
        {
          "output_type": "display_data",
          "data": {
            "image/png": "[encoded data removed]",
            "text/plain": [
              "<Figure size 504x216 with 6 Axes>"
            ]
          },
          "metadata": {
            "tags": [],
            "needs_background": "light"
          }
        }
      ]
    },
    {
      "cell_type": "code",
      "metadata": {
        "id": "bWhVga-mHysK"
      },
      "source": [
        "mean_tpr = np.mean(tpr_ls_itr, axis=0)\n",
        "mean_fpr = np.mean(fpr_ls_itr,axis=0)\n",
        "mean_prec = np.mean(prec_ls_itr, axis=0)\n",
        "mean_rec = np.mean(rec_ls_itr, axis=0)\n",
        "std_tpr = np.std(tpr_ls_itr, axis=0)\n",
        "mean_auc = auc(mean_fpr, mean_tpr)"
      ],
      "execution_count": null,
      "outputs": []
    },
    {
      "cell_type": "code",
      "metadata": {
        "colab": {
          "base_uri": "https://localhost:8080/"
        },
        "id": "SxJoYIZli9DD",
        "outputId": "06e8671c-97cc-47f5-e269-73184db73f72"
      },
      "source": [
        "print(\"SVM Accuracy run wise\", test_auc_ls)\n",
        "print(\"Testing Performance\")\n",
        "print(\"mean\", \"%.4f\"%np.mean(test_auc_ls))\n",
        "print(\"standard devation\", \"%.4f\"%np.std(test_auc_ls))"
      ],
      "execution_count": null,
      "outputs": [
        {
          "output_type": "stream",
          "text": [
            "SVM Accuracy run wise [0.734, 0.736, 0.7045]\n",
            "Testing Performance\n",
            "mean 0.7248\n",
            "standard devation 0.0144\n"
          ],
          "name": "stdout"
        }
      ]
    },
    {
      "cell_type": "code",
      "metadata": {
        "id": "ssfxDEDEVOzU"
      },
      "source": [
        "print(\"threshold \",thresholds)\n",
        "print(\"mean fpr \",mean_fpr)\n",
        "print(\"mean tpr \",mean_tpr)"
      ],
      "execution_count": null,
      "outputs": []
    },
    {
      "cell_type": "code",
      "metadata": {
        "id": "zAZAgGtOx61d",
        "colab": {
          "base_uri": "https://localhost:8080/",
          "height": 458
        },
        "outputId": "dca66c1f-faab-472a-9ee6-eb2d33793603"
      },
      "source": [
        "plt.figure(figsize=(7,7))\n",
        "plt.errorbar(mean_fpr, mean_tpr,yerr = std_tpr, fmt='-o', color='r', ecolor='black', capsize=10, label=r'SVM, Mean ROC (AUC = %0.2f )' % (mean_auc))\n",
        "# Title\n",
        "plt.title('ROC Plot')\n",
        "# Axis labels\n",
        "plt.xlabel('False Positive Rate')\n",
        "plt.ylabel('True Positive Rate')\n",
        "# Show legend\n",
        "plt.legend() # \n",
        "plt.grid()\n",
        "# Show plot\n",
        "plt.show()"
      ],
      "execution_count": null,
      "outputs": [
        {
          "output_type": "display_data",
          "data": {
            "image/png": "[encoded data removed]",
            "text/plain": [
              "<Figure size 504x504 with 1 Axes>"
            ]
          },
          "metadata": {
            "tags": [],
            "needs_background": "light"
          }
        }
      ]
    },
    {
      "cell_type": "code",
      "metadata": {
        "id": "iZOsxcPctUaE",
        "colab": {
          "base_uri": "https://localhost:8080/",
          "height": 458
        },
        "outputId": "fcf6594a-efb6-4e56-94dd-7fb46ea18625"
      },
      "source": [
        "plt.figure(figsize=(7,7))\n",
        "plt.plot(mean_rec, mean_prec, marker='.', label='SVM')\n",
        "\n",
        "# Title\n",
        "plt.title('PR Plot')\n",
        "# Axis labels\n",
        "plt.xlabel('Recall')\n",
        "plt.ylabel('Precision')\n",
        "# Show legend\n",
        "plt.legend() #\n",
        "plt.grid() \n",
        "# Show plot\n",
        "plt.show()"
      ],
      "execution_count": null,
      "outputs": [
        {
          "output_type": "display_data",
          "data": {
            "image/png": "[encoded data removed]",
            "text/plain": [
              "<Figure size 504x504 with 1 Axes>"
            ]
          },
          "metadata": {
            "tags": [],
            "needs_background": "light"
          }
        }
      ]
    },
    {
      "cell_type": "code",
      "metadata": {
        "id": "uqpr_iK5tkkR"
      },
      "source": [
        "eer, index = EER_fn(mean_tpr, mean_fpr)"
      ],
      "execution_count": null,
      "outputs": []
    },
    {
      "cell_type": "code",
      "metadata": {
        "id": "YF_JJZhdtyru",
        "colab": {
          "base_uri": "https://localhost:8080/"
        },
        "outputId": "05f3d8f0-2cb1-4add-bbf3-7859e2c51c24"
      },
      "source": [
        "print(\"Equal Error Rate in neural network with threshold\")\n",
        "print(\"EER\",'%.4f'%eer)\n",
        "print(\"threshold\", thresholds[index])"
      ],
      "execution_count": null,
      "outputs": [
        {
          "output_type": "stream",
          "text": [
            "Equal Error Rate in neural network with threshold\n",
            "EER 0.1638\n",
            "threshold 0.1\n"
          ],
          "name": "stdout"
        }
      ]
    },
    {
      "cell_type": "markdown",
      "metadata": {
        "id": "qYMedv7-jgwc"
      },
      "source": [
        "**Neural Network Classification**\n"
      ]
    },
    {
      "cell_type": "code",
      "metadata": {
        "id": "1PnWvoL3mhrK"
      },
      "source": [
        "nn_test_auc_ls = []\n",
        "con_mat_ls = []\n",
        "tpr_ls_itr , tnr_ls_itr, fpr_ls_itr, fnr_ls_itr, acc_ls_itr, prec_ls_itr, rec_ls_itr = ([] for i in range(7))"
      ],
      "execution_count": null,
      "outputs": []
    },
    {
      "cell_type": "code",
      "metadata": {
        "id": "jkPxImyvlBT0",
        "colab": {
          "base_uri": "https://localhost:8080/"
        },
        "outputId": "478fb57a-2cea-43f6-ba92-9f4ed347679f"
      },
      "source": [
        "for i in range(0,1500,500):\n",
        "  f_mnist_train_df = f_mnist_org_train_df[(f_mnist_org_train_df[\"labels\"] == 2) ]\n",
        "  f_mnist_train_df = f_mnist_train_df.append(f_mnist_org_train_df[f_mnist_org_train_df[\"labels\"] == 4][i:i+500])\n",
        "\n",
        "\n",
        "  train_img = list(f_mnist_train_df[\"images\"].values)\n",
        "  train_labels = list(f_mnist_train_df[\"labels\"].values)\n",
        "\n",
        "  train_img = np.array(train_img) / 255.0\n",
        "  train_labels = np.array(train_labels)\n",
        "\n",
        "  train_labels  = np.where(train_labels == 2, 0, 1)\n",
        "\n",
        "\n",
        "  callback = tf.keras.callbacks.EarlyStopping(monitor='loss', patience=3)\n",
        "\n",
        "  model = keras.Sequential([\n",
        "    #keras.layers.Flatten(input_shape=(28,28)),\n",
        "    keras.layers.Dense(128, activation=tf.nn.relu),\n",
        "    keras.layers.Dense(128, activation=tf.nn.relu),\n",
        "    keras.layers.Dense(128, activation=tf.nn.relu),\n",
        "    keras.layers.Dense(64, activation=tf.nn.relu),\n",
        "    keras.layers.Dense(1, activation=tf.nn.sigmoid)\n",
        "  ])\n",
        "  model.compile(optimizer='adam', loss='binary_crossentropy', metrics=['accuracy'])\n",
        "  model.fit(train_img, train_labels, epochs=50,callbacks=[callback])\n",
        "\n",
        "  \n",
        "  test_loss, test_acc = model.evaluate(test_img, test_labels)\n",
        "  nn_test_auc_ls.append(test_acc)\n",
        "\n",
        "  \n",
        "\n",
        "  test_labels_pred_prob = model.predict(test_img)\n",
        "  test_labels_pred = model.predict_classes(test_img)\n",
        "\n",
        "  con_mat_ls.append(confusion_matrix(test_labels,test_labels_pred))\n",
        "\n",
        "  tpr_ls , tnr_ls, fpr_ls, fnr_ls, acc_ls, prec_ls, rec_ls = ([] for i in range(7))\n",
        "\n",
        "  \n",
        "  for thres in thresholds:\n",
        "    con_mat = confusionMatrix(test_labels,test_labels_pred_prob,thres = thres)\n",
        "    print(con_mat)\n",
        "    tpr_ls.append(tpr_fn(con_mat))\n",
        "    tnr_ls.append(tnr_fn(con_mat))\n",
        "    fpr_ls.append(fpr_fn(con_mat))\n",
        "    fnr_ls.append(fnr_fn(con_mat))\n",
        "    acc_ls.append(ACC_fn(con_mat))\n",
        "    prec_ls.append(precision_fn(con_mat))\n",
        "    rec_ls.append(recall_fn(con_mat))\n",
        "\n",
        "\n",
        "  tpr_ls_itr.append(tpr_ls)\n",
        "  tnr_ls_itr.append(tnr_ls)\n",
        "  fpr_ls_itr.append(fpr_ls)\n",
        "  fnr_ls_itr.append(fnr_ls)\n",
        "  acc_ls_itr.append(acc_ls)\n",
        "  prec_ls_itr.append(prec_ls)\n",
        "  rec_ls_itr.append(rec_ls)"
      ],
      "execution_count": null,
      "outputs": [
        {
          "output_type": "stream",
          "text": [
            "Epoch 1/50\n",
            "204/204 [==============================] - 1s 2ms/step - loss: 0.2770 - accuracy: 0.9136\n",
            "Epoch 2/50\n",
            "204/204 [==============================] - 0s 2ms/step - loss: 0.1812 - accuracy: 0.9205\n",
            "Epoch 3/50\n",
            "204/204 [==============================] - 0s 2ms/step - loss: 0.1594 - accuracy: 0.9323\n",
            "Epoch 4/50\n",
            "204/204 [==============================] - 0s 2ms/step - loss: 0.1780 - accuracy: 0.9268\n",
            "Epoch 5/50\n",
            "204/204 [==============================] - 0s 2ms/step - loss: 0.1451 - accuracy: 0.9392\n",
            "Epoch 6/50\n",
            "204/204 [==============================] - 0s 2ms/step - loss: 0.1416 - accuracy: 0.9383\n",
            "Epoch 7/50\n",
            "204/204 [==============================] - 0s 2ms/step - loss: 0.1349 - accuracy: 0.9427\n",
            "Epoch 8/50\n",
            "204/204 [==============================] - 0s 2ms/step - loss: 0.1215 - accuracy: 0.9516\n",
            "Epoch 9/50\n",
            "204/204 [==============================] - 0s 2ms/step - loss: 0.1346 - accuracy: 0.9429\n",
            "Epoch 10/50\n",
            "204/204 [==============================] - 0s 2ms/step - loss: 0.1117 - accuracy: 0.9545\n",
            "Epoch 11/50\n",
            "204/204 [==============================] - 0s 2ms/step - loss: 0.1237 - accuracy: 0.9449\n",
            "Epoch 12/50\n",
            "204/204 [==============================] - 0s 2ms/step - loss: 0.1314 - accuracy: 0.9424\n",
            "Epoch 13/50\n",
            "204/204 [==============================] - 0s 2ms/step - loss: 0.1224 - accuracy: 0.9483\n",
            "Epoch 14/50\n",
            "204/204 [==============================] - 0s 2ms/step - loss: 0.1142 - accuracy: 0.9548\n",
            "Epoch 15/50\n",
            "204/204 [==============================] - 0s 2ms/step - loss: 0.1007 - accuracy: 0.9571\n",
            "Epoch 16/50\n",
            "204/204 [==============================] - 0s 2ms/step - loss: 0.1034 - accuracy: 0.9570\n",
            "Epoch 17/50\n",
            "204/204 [==============================] - 0s 2ms/step - loss: 0.1016 - accuracy: 0.9593\n",
            "Epoch 18/50\n",
            "204/204 [==============================] - 0s 2ms/step - loss: 0.0993 - accuracy: 0.9539\n",
            "Epoch 19/50\n",
            "204/204 [==============================] - 0s 2ms/step - loss: 0.0873 - accuracy: 0.9639\n",
            "Epoch 20/50\n",
            "204/204 [==============================] - 0s 2ms/step - loss: 0.1081 - accuracy: 0.9584\n",
            "Epoch 21/50\n",
            "204/204 [==============================] - 0s 2ms/step - loss: 0.0875 - accuracy: 0.9640\n",
            "Epoch 22/50\n",
            "204/204 [==============================] - 0s 2ms/step - loss: 0.1016 - accuracy: 0.9552\n",
            "Epoch 23/50\n",
            "204/204 [==============================] - 0s 2ms/step - loss: 0.0887 - accuracy: 0.9611\n",
            "Epoch 24/50\n",
            "204/204 [==============================] - 0s 2ms/step - loss: 0.0876 - accuracy: 0.9673\n",
            "Epoch 25/50\n",
            "204/204 [==============================] - 0s 2ms/step - loss: 0.0758 - accuracy: 0.9653\n",
            "Epoch 26/50\n",
            "204/204 [==============================] - 0s 2ms/step - loss: 0.1011 - accuracy: 0.9603\n",
            "Epoch 27/50\n",
            "204/204 [==============================] - 0s 2ms/step - loss: 0.0809 - accuracy: 0.9653\n",
            "Epoch 28/50\n",
            "204/204 [==============================] - 0s 2ms/step - loss: 0.0869 - accuracy: 0.9655\n",
            "Epoch 29/50\n",
            "204/204 [==============================] - 1s 2ms/step - loss: 0.0823 - accuracy: 0.9681\n",
            "Epoch 30/50\n",
            "204/204 [==============================] - 1s 3ms/step - loss: 0.0728 - accuracy: 0.9699\n",
            "Epoch 31/50\n",
            "204/204 [==============================] - 0s 2ms/step - loss: 0.0685 - accuracy: 0.9731\n",
            "Epoch 32/50\n",
            "204/204 [==============================] - 0s 2ms/step - loss: 0.0631 - accuracy: 0.9724\n",
            "Epoch 33/50\n",
            "204/204 [==============================] - 0s 2ms/step - loss: 0.0624 - accuracy: 0.9743\n",
            "Epoch 34/50\n",
            "204/204 [==============================] - 1s 3ms/step - loss: 0.0766 - accuracy: 0.9689\n",
            "Epoch 35/50\n",
            "204/204 [==============================] - 0s 2ms/step - loss: 0.0655 - accuracy: 0.9709\n",
            "Epoch 36/50\n",
            "204/204 [==============================] - 0s 2ms/step - loss: 0.0658 - accuracy: 0.9741\n",
            "Epoch 37/50\n",
            "204/204 [==============================] - 0s 2ms/step - loss: 0.0638 - accuracy: 0.9732\n",
            "Epoch 38/50\n",
            "204/204 [==============================] - 0s 2ms/step - loss: 0.0660 - accuracy: 0.9733\n",
            "Epoch 39/50\n",
            "204/204 [==============================] - 1s 3ms/step - loss: 0.0669 - accuracy: 0.9740\n",
            "Epoch 40/50\n",
            "204/204 [==============================] - 1s 2ms/step - loss: 0.0586 - accuracy: 0.9746\n",
            "Epoch 41/50\n",
            "204/204 [==============================] - 0s 2ms/step - loss: 0.0623 - accuracy: 0.9737\n",
            "Epoch 42/50\n",
            "204/204 [==============================] - 0s 2ms/step - loss: 0.0584 - accuracy: 0.9765\n",
            "Epoch 43/50\n",
            "204/204 [==============================] - 0s 2ms/step - loss: 0.0562 - accuracy: 0.9768\n",
            "Epoch 44/50\n",
            "204/204 [==============================] - 0s 2ms/step - loss: 0.0512 - accuracy: 0.9780\n",
            "Epoch 45/50\n",
            "204/204 [==============================] - 0s 2ms/step - loss: 0.0517 - accuracy: 0.9782\n",
            "Epoch 46/50\n",
            "204/204 [==============================] - 0s 2ms/step - loss: 0.0703 - accuracy: 0.9708\n",
            "Epoch 47/50\n",
            "204/204 [==============================] - 0s 2ms/step - loss: 0.0457 - accuracy: 0.9803\n",
            "Epoch 48/50\n",
            "204/204 [==============================] - 0s 2ms/step - loss: 0.0529 - accuracy: 0.9776\n",
            "Epoch 49/50\n",
            "204/204 [==============================] - 0s 2ms/step - loss: 0.0446 - accuracy: 0.9821\n",
            "Epoch 50/50\n",
            "204/204 [==============================] - 0s 2ms/step - loss: 0.0414 - accuracy: 0.9809\n",
            "63/63 [==============================] - 0s 1ms/step - loss: 0.6051 - accuracy: 0.8485\n"
          ],
          "name": "stdout"
        },
        {
          "output_type": "stream",
          "text": [
            "/usr/local/lib/python3.6/dist-packages/tensorflow/python/keras/engine/sequential.py:450: UserWarning: `model.predict_classes()` is deprecated and will be removed after 2021-01-01. Please use instead:* `np.argmax(model.predict(x), axis=-1)`,   if your model does multi-class classification   (e.g. if it uses a `softmax` last-layer activation).* `(model.predict(x) > 0.5).astype(\"int32\")`,   if your model does binary classification   (e.g. if it uses a `sigmoid` last-layer activation).\n",
            "  warnings.warn('`model.predict_classes()` is deprecated and '\n"
          ],
          "name": "stderr"
        },
        {
          "output_type": "stream",
          "text": [
            "conf(tp=889.0, fp=135.0, tn=865.0, fn=111.0)\n",
            "conf(tp=860.0, fp=105.0, tn=895.0, fn=140.0)\n",
            "conf(tp=830.0, fp=82.0, tn=918.0, fn=170.0)\n",
            "conf(tp=803.0, fp=64.0, tn=936.0, fn=197.0)\n",
            "conf(tp=745.0, fp=48.0, tn=952.0, fn=255.0)\n",
            "conf(tp=715.0, fp=40.0, tn=960.0, fn=285.0)\n",
            "conf(tp=677.0, fp=32.0, tn=968.0, fn=323.0)\n",
            "conf(tp=625.0, fp=24.0, tn=976.0, fn=375.0)\n",
            "conf(tp=551.0, fp=18.0, tn=982.0, fn=449.0)\n",
            "Epoch 1/50\n",
            "204/204 [==============================] - 1s 2ms/step - loss: 0.2664 - accuracy: 0.9246\n",
            "Epoch 2/50\n",
            "204/204 [==============================] - 0s 2ms/step - loss: 0.1607 - accuracy: 0.9344\n",
            "Epoch 3/50\n",
            "204/204 [==============================] - 0s 2ms/step - loss: 0.1757 - accuracy: 0.9231\n",
            "Epoch 4/50\n",
            "204/204 [==============================] - 1s 3ms/step - loss: 0.1629 - accuracy: 0.9377\n",
            "Epoch 5/50\n",
            "204/204 [==============================] - 0s 2ms/step - loss: 0.1532 - accuracy: 0.9346\n",
            "Epoch 6/50\n",
            "204/204 [==============================] - 0s 2ms/step - loss: 0.1536 - accuracy: 0.9353\n",
            "Epoch 7/50\n",
            "204/204 [==============================] - 0s 2ms/step - loss: 0.1242 - accuracy: 0.9483\n",
            "Epoch 8/50\n",
            "204/204 [==============================] - 0s 2ms/step - loss: 0.1378 - accuracy: 0.9448\n",
            "Epoch 9/50\n",
            "204/204 [==============================] - 0s 2ms/step - loss: 0.1325 - accuracy: 0.9450\n",
            "Epoch 10/50\n",
            "204/204 [==============================] - 0s 2ms/step - loss: 0.1177 - accuracy: 0.9516\n",
            "Epoch 11/50\n",
            "204/204 [==============================] - 0s 2ms/step - loss: 0.1263 - accuracy: 0.9511\n",
            "Epoch 12/50\n",
            "204/204 [==============================] - 0s 2ms/step - loss: 0.1104 - accuracy: 0.9513\n",
            "Epoch 13/50\n",
            "204/204 [==============================] - 0s 2ms/step - loss: 0.1063 - accuracy: 0.9569\n",
            "Epoch 14/50\n",
            "204/204 [==============================] - 0s 2ms/step - loss: 0.1151 - accuracy: 0.9518\n",
            "Epoch 15/50\n",
            "204/204 [==============================] - 0s 2ms/step - loss: 0.1096 - accuracy: 0.9579\n",
            "Epoch 16/50\n",
            "204/204 [==============================] - 0s 2ms/step - loss: 0.1093 - accuracy: 0.9610\n",
            "Epoch 17/50\n",
            "204/204 [==============================] - 0s 2ms/step - loss: 0.1123 - accuracy: 0.9564\n",
            "Epoch 18/50\n",
            "204/204 [==============================] - 0s 2ms/step - loss: 0.1173 - accuracy: 0.9559\n",
            "Epoch 19/50\n",
            "204/204 [==============================] - 0s 2ms/step - loss: 0.1100 - accuracy: 0.9584\n",
            "Epoch 20/50\n",
            "204/204 [==============================] - 0s 2ms/step - loss: 0.1014 - accuracy: 0.9596\n",
            "Epoch 21/50\n",
            "204/204 [==============================] - 0s 2ms/step - loss: 0.0971 - accuracy: 0.9578\n",
            "Epoch 22/50\n",
            "204/204 [==============================] - 0s 2ms/step - loss: 0.0968 - accuracy: 0.9584\n",
            "Epoch 23/50\n",
            "204/204 [==============================] - 0s 2ms/step - loss: 0.1044 - accuracy: 0.9579\n",
            "Epoch 24/50\n",
            "204/204 [==============================] - 0s 2ms/step - loss: 0.1013 - accuracy: 0.9600\n",
            "Epoch 25/50\n",
            "204/204 [==============================] - 0s 2ms/step - loss: 0.0972 - accuracy: 0.9615\n",
            "Epoch 26/50\n",
            "204/204 [==============================] - 0s 2ms/step - loss: 0.0937 - accuracy: 0.9600\n",
            "Epoch 27/50\n",
            "204/204 [==============================] - 0s 2ms/step - loss: 0.0925 - accuracy: 0.9610\n",
            "Epoch 28/50\n",
            "204/204 [==============================] - 0s 2ms/step - loss: 0.0721 - accuracy: 0.9689\n",
            "Epoch 29/50\n",
            "204/204 [==============================] - 0s 2ms/step - loss: 0.0904 - accuracy: 0.9612\n",
            "Epoch 30/50\n",
            "204/204 [==============================] - 0s 2ms/step - loss: 0.0849 - accuracy: 0.9656\n",
            "Epoch 31/50\n",
            "204/204 [==============================] - 0s 2ms/step - loss: 0.0814 - accuracy: 0.9646\n",
            "Epoch 32/50\n",
            "204/204 [==============================] - 0s 2ms/step - loss: 0.0791 - accuracy: 0.9667\n",
            "Epoch 33/50\n",
            "204/204 [==============================] - 0s 2ms/step - loss: 0.0828 - accuracy: 0.9680\n",
            "Epoch 34/50\n",
            "204/204 [==============================] - 0s 2ms/step - loss: 0.0795 - accuracy: 0.9696\n",
            "Epoch 35/50\n",
            "204/204 [==============================] - 0s 2ms/step - loss: 0.0752 - accuracy: 0.9702\n",
            "63/63 [==============================] - 0s 1ms/step - loss: 0.5096 - accuracy: 0.8125\n"
          ],
          "name": "stdout"
        },
        {
          "output_type": "stream",
          "text": [
            "/usr/local/lib/python3.6/dist-packages/tensorflow/python/keras/engine/sequential.py:450: UserWarning: `model.predict_classes()` is deprecated and will be removed after 2021-01-01. Please use instead:* `np.argmax(model.predict(x), axis=-1)`,   if your model does multi-class classification   (e.g. if it uses a `softmax` last-layer activation).* `(model.predict(x) > 0.5).astype(\"int32\")`,   if your model does binary classification   (e.g. if it uses a `sigmoid` last-layer activation).\n",
            "  warnings.warn('`model.predict_classes()` is deprecated and '\n"
          ],
          "name": "stderr"
        },
        {
          "output_type": "stream",
          "text": [
            "conf(tp=877.0, fp=134.0, tn=866.0, fn=123.0)\n",
            "conf(tp=825.0, fp=82.0, tn=918.0, fn=175.0)\n",
            "conf(tp=761.0, fp=54.0, tn=946.0, fn=239.0)\n",
            "conf(tp=700.0, fp=40.0, tn=960.0, fn=300.0)\n",
            "conf(tp=653.0, fp=28.0, tn=972.0, fn=347.0)\n",
            "conf(tp=591.0, fp=17.0, tn=983.0, fn=409.0)\n",
            "conf(tp=516.0, fp=12.0, tn=988.0, fn=484.0)\n",
            "conf(tp=448.0, fp=8.0, tn=992.0, fn=552.0)\n",
            "conf(tp=344.0, fp=5.0, tn=995.0, fn=656.0)\n",
            "Epoch 1/50\n",
            "204/204 [==============================] - 1s 2ms/step - loss: 0.2892 - accuracy: 0.8967\n",
            "Epoch 2/50\n",
            "204/204 [==============================] - 0s 2ms/step - loss: 0.1808 - accuracy: 0.9272\n",
            "Epoch 3/50\n",
            "204/204 [==============================] - 0s 2ms/step - loss: 0.1743 - accuracy: 0.9301\n",
            "Epoch 4/50\n",
            "204/204 [==============================] - 0s 2ms/step - loss: 0.1705 - accuracy: 0.9301\n",
            "Epoch 5/50\n",
            "204/204 [==============================] - 0s 2ms/step - loss: 0.1633 - accuracy: 0.9318\n",
            "Epoch 6/50\n",
            "204/204 [==============================] - 0s 2ms/step - loss: 0.1521 - accuracy: 0.9345\n",
            "Epoch 7/50\n",
            "204/204 [==============================] - 0s 2ms/step - loss: 0.1542 - accuracy: 0.9369\n",
            "Epoch 8/50\n",
            "204/204 [==============================] - 0s 2ms/step - loss: 0.1396 - accuracy: 0.9440\n",
            "Epoch 9/50\n",
            "204/204 [==============================] - 0s 2ms/step - loss: 0.1389 - accuracy: 0.9426\n",
            "Epoch 10/50\n",
            "204/204 [==============================] - 0s 2ms/step - loss: 0.1366 - accuracy: 0.9439\n",
            "Epoch 11/50\n",
            "204/204 [==============================] - 0s 2ms/step - loss: 0.1332 - accuracy: 0.9445\n",
            "Epoch 12/50\n",
            "204/204 [==============================] - 0s 2ms/step - loss: 0.1239 - accuracy: 0.9469\n",
            "Epoch 13/50\n",
            "204/204 [==============================] - 0s 2ms/step - loss: 0.1271 - accuracy: 0.9512\n",
            "Epoch 14/50\n",
            "204/204 [==============================] - 0s 2ms/step - loss: 0.1437 - accuracy: 0.9416\n",
            "Epoch 15/50\n",
            "204/204 [==============================] - 0s 2ms/step - loss: 0.1663 - accuracy: 0.9252\n",
            "63/63 [==============================] - 0s 1ms/step - loss: 0.7910 - accuracy: 0.7045\n",
            "conf(tp=793.0, fp=79.0, tn=921.0, fn=207.0)\n",
            "conf(tp=694.0, fp=41.0, tn=959.0, fn=306.0)\n",
            "conf(tp=601.0, fp=28.0, tn=972.0, fn=399.0)\n",
            "conf(tp=504.0, fp=20.0, tn=980.0, fn=496.0)\n",
            "conf(tp=420.0, fp=11.0, tn=989.0, fn=580.0)\n",
            "conf(tp=322.0, fp=3.0, tn=997.0, fn=678.0)\n",
            "conf(tp=179.0, fp=3.0, tn=997.0, fn=821.0)\n",
            "conf(tp=32.0, fp=0.0, tn=1000.0, fn=968.0)\n",
            "conf(tp=6.0, fp=0.0, tn=1000.0, fn=994.0)\n"
          ],
          "name": "stdout"
        },
        {
          "output_type": "stream",
          "text": [
            "/usr/local/lib/python3.6/dist-packages/tensorflow/python/keras/engine/sequential.py:450: UserWarning: `model.predict_classes()` is deprecated and will be removed after 2021-01-01. Please use instead:* `np.argmax(model.predict(x), axis=-1)`,   if your model does multi-class classification   (e.g. if it uses a `softmax` last-layer activation).* `(model.predict(x) > 0.5).astype(\"int32\")`,   if your model does binary classification   (e.g. if it uses a `sigmoid` last-layer activation).\n",
            "  warnings.warn('`model.predict_classes()` is deprecated and '\n"
          ],
          "name": "stderr"
        }
      ]
    },
    {
      "cell_type": "code",
      "metadata": {
        "colab": {
          "base_uri": "https://localhost:8080/",
          "height": 225
        },
        "id": "IIXYiY99LntM",
        "outputId": "961c38f9-6f84-4cb3-865a-aed6d1280b84"
      },
      "source": [
        "class_names = ['Pullover','Coat']\n",
        "plt.figure(figsize=(7,3))\n",
        "plt.subplot(1,3,1)\n",
        "con_mat_df = pd.DataFrame(con_mat_ls[0], index = [i for i in class_names],columns = [i for i in class_names])\n",
        "sns.heatmap(con_mat_df, annot=True, fmt='g',cmap='bone_r')\n",
        "plt.subplot(1,3,2)\n",
        "con_mat_df = pd.DataFrame(con_mat_ls[1], index = [i for i in class_names],columns = [i for i in class_names])\n",
        "sns.heatmap(con_mat_df, annot=True, fmt='g',cmap='bone_r')\n",
        "plt.subplot(1,3,3)\n",
        "con_mat_df = pd.DataFrame(con_mat_ls[2], index = [i for i in class_names],columns = [i for i in class_names])\n",
        "sns.heatmap(con_mat_df, annot=True, fmt='g',cmap='bone_r')\n",
        "plt.tight_layout()"
      ],
      "execution_count": null,
      "outputs": [
        {
          "output_type": "display_data",
          "data": {
            "image/png": "[encoded data removed]",
            "text/plain": [
              "<Figure size 504x216 with 6 Axes>"
            ]
          },
          "metadata": {
            "tags": [],
            "needs_background": "light"
          }
        }
      ]
    },
    {
      "cell_type": "code",
      "metadata": {
        "id": "s3o5kaHGvtRL"
      },
      "source": [
        "mean_tpr = np.mean(tpr_ls_itr, axis=0)\n",
        "mean_fpr = np.mean(fpr_ls_itr,axis=0)\n",
        "mean_prec = np.mean(prec_ls_itr, axis=0)\n",
        "mean_rec = np.mean(rec_ls_itr, axis=0)\n",
        "std_tpr = np.std(tpr_ls_itr, axis=0)\n",
        "mean_auc = auc(mean_fpr, mean_tpr)"
      ],
      "execution_count": null,
      "outputs": []
    },
    {
      "cell_type": "code",
      "metadata": {
        "colab": {
          "base_uri": "https://localhost:8080/"
        },
        "id": "CuNr4C0Nj-Ah",
        "outputId": "4c6f8cc8-d9ba-4752-e15e-cf7c8e2e1a73"
      },
      "source": [
        "print(\"Neural Network Accuracy run wise\", nn_test_auc_ls)\n",
        "print(\"Testing Performance\")\n",
        "print(\"mean\", \"%.4f\"%np.mean(nn_test_auc_ls))\n",
        "print(\"standard devation\", \"%.4f\"%np.std(nn_test_auc_ls))"
      ],
      "execution_count": null,
      "outputs": [
        {
          "output_type": "stream",
          "text": [
            "Neural Network Accuracy run wise [0.8485000133514404, 0.8125, 0.7045000195503235]\n",
            "Testing Performance\n",
            "mean 0.7885\n",
            "standard devation 0.0612\n"
          ],
          "name": "stdout"
        }
      ]
    },
    {
      "cell_type": "code",
      "metadata": {
        "colab": {
          "base_uri": "https://localhost:8080/",
          "height": 458
        },
        "id": "ZRg7_Gwfl46y",
        "outputId": "2384a0b8-08e3-4a50-c027-990b8c7c3cab"
      },
      "source": [
        "plt.figure(figsize=(7,7))\n",
        "plt.errorbar(mean_fpr, mean_tpr,yerr = std_tpr, fmt='-o', color='r', ecolor='black', capsize=10, label=r'NN, Mean ROC (AUC = %0.2f )' % (mean_auc))\n",
        "# Title\n",
        "plt.title('ROC Plot')\n",
        "# Axis labels\n",
        "plt.xlabel('False Positive Rate')\n",
        "plt.ylabel('True Positive Rate')\n",
        "# Show legend\n",
        "plt.legend() # \n",
        "plt.grid()\n",
        "# Show plot\n",
        "plt.show()"
      ],
      "execution_count": null,
      "outputs": [
        {
          "output_type": "display_data",
          "data": {
            "image/png": "[encoded data removed]",
            "text/plain": [
              "<Figure size 504x504 with 1 Axes>"
            ]
          },
          "metadata": {
            "tags": [],
            "needs_background": "light"
          }
        }
      ]
    },
    {
      "cell_type": "code",
      "metadata": {
        "id": "J2FFr3iKbFRG",
        "colab": {
          "base_uri": "https://localhost:8080/",
          "height": 458
        },
        "outputId": "af02c683-7008-4980-be48-0c907bea60e3"
      },
      "source": [
        "plt.figure(figsize=(7,7))\n",
        "plt.plot(mean_rec, mean_prec, marker='.', label='NN')\n",
        "\n",
        "# Title\n",
        "plt.title('PR Plot')\n",
        "# Axis labels\n",
        "plt.xlabel('Recall')\n",
        "plt.ylabel('Precision')\n",
        "# Show legend\n",
        "plt.legend() #\n",
        "plt.grid() \n",
        "# Show plot\n",
        "plt.show()"
      ],
      "execution_count": null,
      "outputs": [
        {
          "output_type": "display_data",
          "data": {
            "image/png": "[encoded data removed]",
            "text/plain": [
              "<Figure size 504x504 with 1 Axes>"
            ]
          },
          "metadata": {
            "tags": [],
            "needs_background": "light"
          }
        }
      ]
    },
    {
      "cell_type": "code",
      "metadata": {
        "id": "clS46puYmIwz"
      },
      "source": [
        "eer, index = EER_fn(mean_tpr, mean_fpr)"
      ],
      "execution_count": null,
      "outputs": []
    },
    {
      "cell_type": "code",
      "metadata": {
        "id": "nqk4HtPeobDi",
        "colab": {
          "base_uri": "https://localhost:8080/"
        },
        "outputId": "620cfda4-a3e9-49d5-b788-593104f6c71c"
      },
      "source": [
        "print(\"Equal Error Rate in neural network with threshold\")\n",
        "print(\"EER\",'%.4f'%eer)\n",
        "print(\"threshold\", thresholds[index])"
      ],
      "execution_count": null,
      "outputs": [
        {
          "output_type": "stream",
          "text": [
            "Equal Error Rate in neural network with threshold\n",
            "EER 0.1315\n",
            "threshold 0.1\n"
          ],
          "name": "stdout"
        }
      ]
    },
    {
      "cell_type": "code",
      "metadata": {
        "colab": {
          "base_uri": "https://localhost:8080/"
        },
        "id": "xh9lraOHlroG",
        "outputId": "90642fa5-fc6f-4039-e566-bd1887a438ad"
      },
      "source": [
        "print(\"threshold \",thresholds)\n",
        "print(\"mean fpr \",mean_fpr)\n",
        "print(\"mean tpr \",mean_tpr)"
      ],
      "execution_count": null,
      "outputs": [
        {
          "output_type": "stream",
          "text": [
            "threshold  [0.1 0.2 0.3 0.4 0.5 0.6 0.7 0.8 0.9]\n",
            "mean fpr  [0.116      0.076      0.05466667 0.04133333 0.029      0.02\n",
            " 0.01566667 0.01066667 0.00766667]\n",
            "mean tpr  [0.853      0.793      0.73066667 0.669      0.606      0.54266667\n",
            " 0.45733333 0.36833333 0.30033333]\n"
          ],
          "name": "stdout"
        }
      ]
    },
    {
      "cell_type": "code",
      "metadata": {
        "id": "pD8hutzEVpCb"
      },
      "source": [
        ""
      ],
      "execution_count": null,
      "outputs": []
    }
  ]
}